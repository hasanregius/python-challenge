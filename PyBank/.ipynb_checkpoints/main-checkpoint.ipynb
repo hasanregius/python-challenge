{
 "cells": [
  {
   "cell_type": "markdown",
   "metadata": {},
   "source": [
    "### Financial Records Analysis\n",
    "\n",
    "In this challenge, you are tasked with creating a Python script for analyzing the financial records of your company. You will give a set of financial data called [budget_data.csv](PyBank/Resources/budget_data.csv). The dataset is composed of two columns: `Date` and `Profit/Losses`. (Thankfully, your company has rather lax standards for accounting so the records are simple.)\n",
    "\n",
    "#### Your task is to create a Python script that analyzes the records to calculate each of the following:\n",
    "\n",
    "  * The total number of months included in the dataset\n",
    "\n",
    "  * The total net amount of \"Profit/Losses\" over the entire period\n",
    "\n",
    "  * The average change in \"Profit/Losses\" between months over the entire period\n",
    "\n",
    "  * The greatest increase in profits (date and amount) over the entire period\n",
    "\n",
    "  * The greatest decrease in losses (date and amount) over the entire period\n",
    "  \n",
    "In addition, your final script should both print the analysis to the terminal and export a text file with the results.\n",
    "    \n",
    "##### Importing the dataset and library prep"
   ]
  },
  {
   "cell_type": "code",
   "execution_count": 2,
   "metadata": {},
   "outputs": [
    {
     "data": {
      "text/html": [
       "<div>\n",
       "<style>\n",
       "    .dataframe thead tr:only-child th {\n",
       "        text-align: right;\n",
       "    }\n",
       "\n",
       "    .dataframe thead th {\n",
       "        text-align: left;\n",
       "    }\n",
       "\n",
       "    .dataframe tbody tr th {\n",
       "        vertical-align: top;\n",
       "    }\n",
       "</style>\n",
       "<table border=\"1\" class=\"dataframe\">\n",
       "  <thead>\n",
       "    <tr style=\"text-align: right;\">\n",
       "      <th></th>\n",
       "      <th>Date</th>\n",
       "      <th>Profit/Losses</th>\n",
       "    </tr>\n",
       "  </thead>\n",
       "  <tbody>\n",
       "    <tr>\n",
       "      <th>0</th>\n",
       "      <td>Jan-2010</td>\n",
       "      <td>867884</td>\n",
       "    </tr>\n",
       "    <tr>\n",
       "      <th>1</th>\n",
       "      <td>Feb-2010</td>\n",
       "      <td>984655</td>\n",
       "    </tr>\n",
       "    <tr>\n",
       "      <th>2</th>\n",
       "      <td>Mar-2010</td>\n",
       "      <td>322013</td>\n",
       "    </tr>\n",
       "    <tr>\n",
       "      <th>3</th>\n",
       "      <td>Apr-2010</td>\n",
       "      <td>-69417</td>\n",
       "    </tr>\n",
       "    <tr>\n",
       "      <th>4</th>\n",
       "      <td>May-2010</td>\n",
       "      <td>310503</td>\n",
       "    </tr>\n",
       "  </tbody>\n",
       "</table>\n",
       "</div>"
      ],
      "text/plain": [
       "       Date  Profit/Losses\n",
       "0  Jan-2010         867884\n",
       "1  Feb-2010         984655\n",
       "2  Mar-2010         322013\n",
       "3  Apr-2010         -69417\n",
       "4  May-2010         310503"
      ]
     },
     "execution_count": 2,
     "metadata": {},
     "output_type": "execute_result"
    }
   ],
   "source": [
    "import pandas as pd\n",
    "# Read our Kickstarter data into pandas\n",
    "df = pd.read_csv(\"Resources/budget_data.csv\")\n",
    "df.head()"
   ]
  },
  {
   "cell_type": "markdown",
   "metadata": {
    "collapsed": true
   },
   "source": [
    "##### Calculating variables"
   ]
  },
  {
   "cell_type": "code",
   "execution_count": 22,
   "metadata": {},
   "outputs": [
    {
     "data": {
      "text/html": [
       "<div>\n",
       "<style>\n",
       "    .dataframe thead tr:only-child th {\n",
       "        text-align: right;\n",
       "    }\n",
       "\n",
       "    .dataframe thead th {\n",
       "        text-align: left;\n",
       "    }\n",
       "\n",
       "    .dataframe tbody tr th {\n",
       "        vertical-align: top;\n",
       "    }\n",
       "</style>\n",
       "<table border=\"1\" class=\"dataframe\">\n",
       "  <thead>\n",
       "    <tr style=\"text-align: right;\">\n",
       "      <th></th>\n",
       "      <th>Date</th>\n",
       "      <th>Profit/Losses</th>\n",
       "      <th>change in profits/losses</th>\n",
       "    </tr>\n",
       "  </thead>\n",
       "  <tbody>\n",
       "    <tr>\n",
       "      <th>0</th>\n",
       "      <td>Jan-2010</td>\n",
       "      <td>867884</td>\n",
       "      <td>NaN</td>\n",
       "    </tr>\n",
       "    <tr>\n",
       "      <th>1</th>\n",
       "      <td>Feb-2010</td>\n",
       "      <td>984655</td>\n",
       "      <td>116771.0</td>\n",
       "    </tr>\n",
       "    <tr>\n",
       "      <th>2</th>\n",
       "      <td>Mar-2010</td>\n",
       "      <td>322013</td>\n",
       "      <td>-662642.0</td>\n",
       "    </tr>\n",
       "    <tr>\n",
       "      <th>3</th>\n",
       "      <td>Apr-2010</td>\n",
       "      <td>-69417</td>\n",
       "      <td>-391430.0</td>\n",
       "    </tr>\n",
       "    <tr>\n",
       "      <th>4</th>\n",
       "      <td>May-2010</td>\n",
       "      <td>310503</td>\n",
       "      <td>379920.0</td>\n",
       "    </tr>\n",
       "  </tbody>\n",
       "</table>\n",
       "</div>"
      ],
      "text/plain": [
       "       Date  Profit/Losses  change in profits/losses\n",
       "0  Jan-2010         867884                       NaN\n",
       "1  Feb-2010         984655                  116771.0\n",
       "2  Mar-2010         322013                 -662642.0\n",
       "3  Apr-2010         -69417                 -391430.0\n",
       "4  May-2010         310503                  379920.0"
      ]
     },
     "execution_count": 22,
     "metadata": {},
     "output_type": "execute_result"
    }
   ],
   "source": [
    "num_months = df[\"Date\"].count()\n",
    "sum_pl = df[\"Profit/Losses\"].sum()\n",
    "df[\"change in profits/losses\"] = df[\"Profit/Losses\"].diff()\n",
    "df.dropna(how=\"any\")\n",
    "avg_diff = df[\"change in profits/losses\"].mean()\n",
    "max_diff = df[\"change in profits/losses\"].max()\n",
    "min_diff = df[\"change in profits/losses\"].min()"
   ]
  },
  {
   "cell_type": "markdown",
   "metadata": {},
   "source": [
    "##### Printing the output"
   ]
  },
  {
   "cell_type": "code",
   "execution_count": 23,
   "metadata": {
    "scrolled": true
   },
   "outputs": [
    {
     "name": "stdout",
     "output_type": "stream",
     "text": [
      "Financial Analysis\n",
      "----------------------------\n",
      "Total Months: 86\n",
      "Total: $38382578\n",
      "Average Change in Profit/Losses: $-2315.1176470588234\n",
      "Greatest Increase in Profit/Losses: $1926159.0\n",
      "Greatest Decrease in Profit/Losses: $-2196167.0\n"
     ]
    }
   ],
   "source": [
    "print(\"Financial Analysis\")\n",
    "print(\"----------------------------\")\n",
    "print(f\"Total Months: {num_months}\")\n",
    "print(f\"Total: ${sum_pl}\")\n",
    "print(f\"Average Change in Profit/Losses: ${avg_diff}\")\n",
    "print(f\"Greatest Increase in Profit/Losses: ${max_diff}\")\n",
    "print(f\"Greatest Decrease in Profit/Losses: ${min_diff}\")"
   ]
  },
  {
   "cell_type": "code",
   "execution_count": 33,
   "metadata": {
    "collapsed": true
   },
   "outputs": [],
   "source": [
    "file = open('Financial Analysis Output', 'w')\n",
    "file.write(\"Financial Analysis\")\n",
    "file.write(\"\\n\")\n",
    "file.write(\"----------------------------\")\n",
    "file.write(\"\\n\")\n",
    "file.write(f\"Total Months: {num_months}\")\n",
    "file.write(\"\\n\")\n",
    "file.write(f\"Total: ${sum_pl}\")\n",
    "file.write(\"\\n\")\n",
    "file.write(f\"Average Change in Profit/Losses: ${avg_diff}\")\n",
    "file.write(\"\\n\")\n",
    "file.write(f\"Greatest Increase in Profit/Losses: ${max_diff}\")\n",
    "file.write(\"\\n\")\n",
    "file.write(f\"Greatest Decrease in Profit/Losses: ${min_diff}\")\n",
    "file.write(\"\\n\")\n",
    "file.close()"
   ]
  }
 ],
 "metadata": {
  "kernelspec": {
   "display_name": "Python 3",
   "language": "python",
   "name": "python3"
  },
  "language_info": {
   "codemirror_mode": {
    "name": "ipython",
    "version": 3
   },
   "file_extension": ".py",
   "mimetype": "text/x-python",
   "name": "python",
   "nbconvert_exporter": "python",
   "pygments_lexer": "ipython3",
   "version": "3.6.3"
  }
 },
 "nbformat": 4,
 "nbformat_minor": 2
}
